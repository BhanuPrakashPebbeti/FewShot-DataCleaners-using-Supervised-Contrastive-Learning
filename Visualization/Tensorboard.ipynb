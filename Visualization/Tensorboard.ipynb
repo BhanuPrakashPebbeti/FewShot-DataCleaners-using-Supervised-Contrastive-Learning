{
 "cells": [
  {
   "cell_type": "code",
   "execution_count": 1,
   "metadata": {},
   "outputs": [
    {
     "name": "stdout",
     "output_type": "stream",
     "text": [
      "WARNING:tensorflow:From /usr/local/lib/python3.6/dist-packages/tensorflow/python/compat/v2_compat.py:96: disable_resource_variables (from tensorflow.python.ops.variable_scope) is deprecated and will be removed in a future version.\n",
      "Instructions for updating:\n",
      "non-resource variables are not supported in the long term\n",
      "2.3.1\n"
     ]
    }
   ],
   "source": [
    "import os,cv2\n",
    "import numpy as np\n",
    "import matplotlib.pyplot as plt\n",
    "import pickle\n",
    "import tensorflow.compat.v1 as tf\n",
    "tf.disable_v2_behavior()\n",
    "print(tf.__version__)\n",
    "from tensorboard.plugins import projector\n",
    "\n",
    "\n",
    "PATH = os.getcwd()\n",
    "\n",
    "LOG_DIR = PATH+ '/embedding1-logs'"
   ]
  },
  {
   "cell_type": "code",
   "execution_count": 4,
   "metadata": {},
   "outputs": [
    {
     "name": "stdout",
     "output_type": "stream",
     "text": [
      "Length of data : 1354\n",
      "Length of labels : 1354\n"
     ]
    }
   ],
   "source": [
    "import pandas as pd\n",
    "df = pd.read_csv(\"/workstation/home/bijoy/data_from_b170007ec/Programs/Bhanu/SCLEARNING/Output_csv/Model_binary_v3.csv\", usecols=range(1,5))\n",
    "predicted_noise = df[df[\"Predicted_label\"]==1]\n",
    "cervix = df[(df[\"Predicted_label\"] == 0)]\n",
    "cervix = cervix[cervix[\"Data_type\"] == \"Train\"]\n",
    "\n",
    "test_ext = pd.read_csv(\"/workstation/home/bijoy/data_from_b170007ec/Programs/Bhanu/SCLEARNING/TESTING_ON_5DATASETS/testing_data.csv\")\n",
    "\n",
    "imagenetdata = test_ext[test_ext[\"imagenet\"] == 1]\n",
    "blooddata = test_ext[test_ext[\"blood\"] == 1]\n",
    "eyedata = test_ext[test_ext[\"eye\"] == 1]\n",
    "skindata = test_ext[test_ext[\"skin\"] == 1]\n",
    "surgerydata = test_ext[test_ext[\"surgery\"] == 1]\n",
    "\n",
    "img_dirs = []\n",
    "labels_temp = []\n",
    "for a in list(predicted_noise[\"Path\"]):\n",
    "    img_dirs.append(a)\n",
    "    labels_temp.append(0)\n",
    "for b in list(cervix[\"Path\"])[:500]:\n",
    "    img_dirs.append(b)\n",
    "    labels_temp.append(1)\n",
    "# for j in list(imagenetdata[\"Path\"])[:500]:\n",
    "#     img_dirs.append(j)\n",
    "#     labels_temp.append(2)\n",
    "# for k in list(blooddata[\"Path\"])[:500]:\n",
    "#     img_dirs.append(k)\n",
    "#     labels_temp.append(3)\n",
    "# for l in list(eyedata[\"Path\"])[:500]:\n",
    "#     img_dirs.append(l)\n",
    "#     labels_temp.append(4)\n",
    "# for m in list(skindata[\"Path\"])[:500]:\n",
    "#     img_dirs.append(m)\n",
    "#     labels_temp.append(5)\n",
    "# for n in list(surgerydata[\"Path\"])[:500]:\n",
    "#     img_dirs.append(n)\n",
    "#     labels_temp.append(6)\n",
    "\n",
    "data1 = img_dirs\n",
    "labels = np.asarray(labels_temp)\n",
    "print(\"Length of data :\",len(data1))\n",
    "print(\"Length of labels :\",len(labels))"
   ]
  },
  {
   "cell_type": "code",
   "execution_count": 2,
   "metadata": {},
   "outputs": [],
   "source": [
    "x = np.load(\"/workstation/home/bijoy/data_from_b170007ec/Programs/Bhanu/SCLEARNING/UMAP/labels1.npy\")"
   ]
  },
  {
   "cell_type": "code",
   "execution_count": 3,
   "metadata": {},
   "outputs": [],
   "source": [
    "import pandas as pd\n",
    "c = pd.read_csv(\"/workstation/home/bijoy/data_from_b170007ec/Programs/Bhanu/SCLEARNING/UMAP/viz.csv\")\n",
    "data = list(c[\"Path\"])\n",
    "labels = list(c[\"label\"])"
   ]
  },
  {
   "cell_type": "code",
   "execution_count": 5,
   "metadata": {},
   "outputs": [
    {
     "data": {
      "text/plain": [
       "3403"
      ]
     },
     "execution_count": 5,
     "metadata": {},
     "output_type": "execute_result"
    }
   ],
   "source": [
    "len(labels)"
   ]
  },
  {
   "cell_type": "code",
   "execution_count": 6,
   "metadata": {},
   "outputs": [
    {
     "name": "stderr",
     "output_type": "stream",
     "text": [
      "100%|██████████| 3403/3403 [07:03<00:00,  8.03it/s] \n"
     ]
    }
   ],
   "source": [
    "#%%\n",
    "from tqdm import tqdm\n",
    "img_data=[]\n",
    "for img in tqdm(data):\n",
    "    input_img=cv2.imread(img)\n",
    "    input_img_resize=cv2.resize(input_img,(128,128))\n",
    "    img_data.append(input_img_resize)\n",
    "    \n",
    "img_data = np.array(img_data)"
   ]
  },
  {
   "cell_type": "code",
   "execution_count": 8,
   "metadata": {},
   "outputs": [
    {
     "name": "stdout",
     "output_type": "stream",
     "text": [
      "feature_vectors_shape: (3403, 1024)\n",
      "num of images: 3403\n",
      "size of individual feature vector: 1024\n"
     ]
    }
   ],
   "source": [
    "feature_vectors = np.loadtxt('feature_vectors_samples1.txt')\n",
    "feature_vectors = feature_vectors\n",
    "print (\"feature_vectors_shape:\",feature_vectors.shape)\n",
    "print (\"num of images:\",feature_vectors.shape[0])\n",
    "print (\"size of individual feature vector:\",feature_vectors.shape[1])\n",
    "features = tf.Variable(feature_vectors, name='features')\n",
    "\n",
    "names = ['Cervix_Noise','cervix','imagenet','blood','eye','skin','surgery']\n",
    "\n",
    "metadata_file = open(os.path.join(LOG_DIR, 'metadata_7_classes.tsv'), 'w')\n",
    "metadata_file.write('Class\\tName\\n')\n",
    "k=len(data)\n",
    "j=0\n",
    "for i in range(len(data)):\n",
    "    c = names[x[i]]\n",
    "    j = x[i]\n",
    "    metadata_file.write('{}\\t{}\\n'.format(j,c))\n",
    "metadata_file.close()"
   ]
  },
  {
   "cell_type": "code",
   "execution_count": 9,
   "metadata": {},
   "outputs": [
    {
     "data": {
      "text/plain": [
       "True"
      ]
     },
     "execution_count": 9,
     "metadata": {},
     "output_type": "execute_result"
    }
   ],
   "source": [
    "# Taken from: https://github.com/tensorflow/tensorflow/issues/6322\n",
    "def images_to_sprite(data):\n",
    "    \"\"\"Creates the sprite image along with any necessary padding\n",
    "    Args:\n",
    "      data: NxHxW[x3] tensor containing the images.\n",
    "    Returns:\n",
    "      data: Properly shaped HxWx3 image with any necessary padding.\n",
    "    \"\"\"\n",
    "    if len(data.shape) == 3:\n",
    "        data = np.tile(data[...,np.newaxis], (1,1,1,3))\n",
    "    data = data.astype(np.float32)\n",
    "    min = np.min(data.reshape((data.shape[0], -1)), axis=1)\n",
    "    data = (data.transpose(1,2,3,0) - min).transpose(3,0,1,2)\n",
    "    max = np.max(data.reshape((data.shape[0], -1)), axis=1)\n",
    "    data = (data.transpose(1,2,3,0) / max).transpose(3,0,1,2)\n",
    "    # Inverting the colors seems to look better for MNIST\n",
    "    #data = 1 - data\n",
    "\n",
    "    n = int(np.ceil(np.sqrt(data.shape[0])))\n",
    "    padding = ((0, n ** 2 - data.shape[0]), (0, 0),\n",
    "            (0, 0)) + ((0, 0),) * (data.ndim - 3)\n",
    "    data = np.pad(data, padding, mode='constant',\n",
    "            constant_values=0)\n",
    "    # Tile the individual thumbnails into an image.\n",
    "    data = data.reshape((n, n) + data.shape[1:]).transpose((0, 2, 1, 3)\n",
    "            + tuple(range(4, data.ndim + 1)))\n",
    "    data = data.reshape((n * data.shape[1], n * data.shape[3]) + data.shape[4:])\n",
    "    data = (data * 255).astype(np.uint8)\n",
    "    return data\n",
    "#%%\n",
    "sprite = images_to_sprite(img_data)\n",
    "cv2.imwrite(os.path.join(LOG_DIR, 'sprite_7_classes.png'), sprite)\n",
    "#scipy.misc.imsave(os.path.join(LOG_DIR, 'sprite.png'), sprite)"
   ]
  },
  {
   "cell_type": "code",
   "execution_count": null,
   "metadata": {},
   "outputs": [],
   "source": []
  },
  {
   "cell_type": "code",
   "execution_count": 10,
   "metadata": {},
   "outputs": [],
   "source": [
    "#%%\n",
    "configuration = tf.ConfigProto(device_count={\"GPU\": 0})\n",
    "with tf.Session(config=configuration) as sess:\n",
    "    saver = tf.train.Saver([features])\n",
    "\n",
    "    sess.run(features.initializer)\n",
    "    saver.save(sess, os.path.join(LOG_DIR, 'images_7_classes.ckpt'))\n",
    "    \n",
    "    config = projector.ProjectorConfig()\n",
    "    # One can add multiple embeddings.\n",
    "    embedding = config.embeddings.add()\n",
    "    embedding.tensor_name = features.name\n",
    "    # Link this tensor to its metadata file (e.g. labels).\n",
    "    embedding.metadata_path = os.path.join(LOG_DIR, 'metadata_7_classes.tsv')\n",
    "    # Comment out if you don't want sprites\n",
    "    embedding.sprite.image_path = os.path.join(LOG_DIR, 'sprite_7_classes.png')\n",
    "    embedding.sprite.single_image_dim.extend([img_data.shape[1], img_data.shape[1]])\n",
    "    # Saves a config file that TensorBoard will read during startup.\n",
    "    projector.visualize_embeddings(tf.summary.FileWriter(LOG_DIR), config)"
   ]
  },
  {
   "cell_type": "code",
   "execution_count": null,
   "metadata": {},
   "outputs": [],
   "source": []
  }
 ],
 "metadata": {
  "kernelspec": {
   "display_name": "Python 3",
   "language": "python",
   "name": "python3"
  },
  "language_info": {
   "codemirror_mode": {
    "name": "ipython",
    "version": 3
   },
   "file_extension": ".py",
   "mimetype": "text/x-python",
   "name": "python",
   "nbconvert_exporter": "python",
   "pygments_lexer": "ipython3",
   "version": "3.6.9"
  }
 },
 "nbformat": 4,
 "nbformat_minor": 4
}
